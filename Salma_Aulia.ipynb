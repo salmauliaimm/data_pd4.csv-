{
  "cells": [
    {
      "cell_type": "markdown",
      "metadata": {
        "id": "view-in-github",
        "colab_type": "text"
      },
      "source": [
        "<a href=\"https://colab.research.google.com/github/salmauliaimm/data_pd4.csv-/blob/main/Salma_Aulia.ipynb\" target=\"_parent\"><img src=\"https://colab.research.google.com/assets/colab-badge.svg\" alt=\"Open In Colab\"/></a>"
      ]
    },
    {
      "cell_type": "markdown",
      "id": "07687d6b-5e4d-4a93-bd71-d45b8ae72582",
      "metadata": {
        "id": "07687d6b-5e4d-4a93-bd71-d45b8ae72582"
      },
      "source": [
        "# Biodata Pemilik Notebook"
      ]
    },
    {
      "cell_type": "markdown",
      "id": "b31edc20-60fe-4ac2-b266-5dd585133e6a",
      "metadata": {
        "id": "b31edc20-60fe-4ac2-b266-5dd585133e6a"
      },
      "source": [
        "```\n",
        "Nama  : Salma Aulia Imama\n",
        "NIM   : 2200015009\n",
        "PD    : 4.0\n",
        "Kelas : Dasar\n",
        "email : 2200015009@webmail.uad.ac.id\n",
        "```"
      ]
    },
    {
      "cell_type": "markdown",
      "id": "dcc20efa-b78b-46a3-970b-9b93da5c00d7",
      "metadata": {
        "id": "dcc20efa-b78b-46a3-970b-9b93da5c00d7"
      },
      "source": [
        "## Pernyataan"
      ]
    },
    {
      "cell_type": "markdown",
      "id": "921fb471-c9e1-4a56-9827-cdc8453e84f4",
      "metadata": {
        "id": "921fb471-c9e1-4a56-9827-cdc8453e84f4"
      },
      "source": [
        "Dengan ini saya menyatakan bahwa `Final Project Kelas Dasar 4.0` dikerjakan oleh saya sendiri tanpa ada bantuan dari orang lain."
      ]
    },
    {
      "cell_type": "markdown",
      "id": "7b41de10-9116-43b0-abd1-77bf239690f0",
      "metadata": {
        "id": "7b41de10-9116-43b0-abd1-77bf239690f0"
      },
      "source": [
        "# Soal 1"
      ]
    },
    {
      "cell_type": "markdown",
      "id": "8f120053-9f03-4b9d-bca7-081f00b8ebd6",
      "metadata": {
        "id": "8f120053-9f03-4b9d-bca7-081f00b8ebd6"
      },
      "source": [
        "Buatlah dua list dan diberi nama `Nama` dan `NIM`. Datanya sebagai berikut."
      ]
    },
    {
      "cell_type": "markdown",
      "id": "473b8f78-b25c-44d1-8863-79126e55e323",
      "metadata": {
        "id": "473b8f78-b25c-44d1-8863-79126e55e323"
      },
      "source": [
        "|Nama|NIM|\n",
        "|---|---|\n",
        "|||\n",
        "|Wisnu Catur Rachmad tulloh |2100015049|\n",
        "|Sindy Mei Marantika|2100015041|\n",
        "|Zakiah Intan Maula\t|2100015043|\n",
        "|Januar Nur Rasyid\t|2100015006|\n",
        "|Lisa Nessa Safitri\t|2100015037|\n",
        "|Hasan Darmawan\t|2215015035|\n",
        "|SAIFUL ANDIKA\t|2100015051|\n",
        "|Maya Isafa Sam Saputri| \t2200015023|\n",
        "|Didi Cahyadi\t|2200015012|\n",
        "|Izza Anggitha Aryanawa| \t2200015032|\n",
        "|Khusnul Khotimah\t|2100015009|\n",
        "|Badzliana Aqmar Suris \t|2100015016|\n",
        "|Anggit Larasati\t|2100015036|\n",
        "|Sona Regina Salsabila\t|2100015053|\n",
        "|LELY AMALIA SAPUTRI\t|2100015050|\n",
        "|Nastasya Dewi\t|2100015010|\n",
        "|Ragita Anillya Putri Prasetianto|\t2100015002|\n",
        "|Muhammad Fatah Hidayat\t|2200015002|\n",
        "|Dwi Agustia\t|2000015016|\n",
        "|Nia Andriani Laila\t|2000015002|\n",
        "|Winarsi J. Bidul\t|2000015011|\n",
        "|Heru Pranoto\t|2211015008|\n",
        "|Reynaldi Ikbar Surya Andhika| \t2200015007|\n",
        "|Muhammad Rafiq Amrullah|\t2200015028|\n",
        "|Muhammad Mujahid Al-makky\t|2200015006|\n",
        "|Fauzi Ramadhan\t|2000015018|\n",
        "|Vinna Rahmasari|\t2000015023|\n",
        "|Shintia Yulita Sari|\t1900015057|\n",
        "|Maretta Mia Audina|\t2200015010|\n",
        "|Salma Aulia Imama \t|2200015009|\n",
        "|Dhea Emma Karniasari \t|2200015024|\n",
        "|Khoirun Nisya|\t2200015033|\n",
        "|PUSPITA AMBARWATI|\t2000015022|"
      ]
    },
    {
      "cell_type": "code",
      "execution_count": null,
      "id": "df238137-68f3-416b-a56c-a61bddd7521e",
      "metadata": {
        "id": "df238137-68f3-416b-a56c-a61bddd7521e",
        "colab": {
          "base_uri": "https://localhost:8080/"
        },
        "outputId": "6dd44c06-ae9b-4c87-b36e-aa49e0ccea01"
      },
      "outputs": [
        {
          "output_type": "execute_result",
          "data": {
            "text/plain": [
              "['Wisnu Catur Rachmad tulloh',\n",
              " 'Sindy Mei Marantika',\n",
              " 'Zakiah Intan Maula',\n",
              " 'Januar Nur Rasyid',\n",
              " 'Lisa Nessa Safitri',\n",
              " 'Hasan Darmawan',\n",
              " 'SAIFUL ANDIKA',\n",
              " 'Maya Isafa Sam Saputri',\n",
              " 'Didi Cahyadi',\n",
              " 'Izza Anggitha Aryanawa',\n",
              " 'Khusnul Khotimah',\n",
              " 'Badzliana Aqmar Suris',\n",
              " 'Anggit Larasati',\n",
              " 'Sona Regina Salsabila',\n",
              " 'LELY AMALIA SAPUTRI',\n",
              " 'Nastasya Dewi',\n",
              " 'Ragita Anillya Putri Prasetianto',\n",
              " 'Muhammad Fatah Hidayat',\n",
              " 'Dwi Agustia',\n",
              " 'Nia Andriani Laila',\n",
              " 'Winarsi J. Bidul',\n",
              " 'Heru Pranoto',\n",
              " 'Reynaldi Ikbar Surya Andhika',\n",
              " 'Muhammad Rafiq Amrullah',\n",
              " 'Muhammad Mujahid Al-makky',\n",
              " 'Fauzi Ramadhan',\n",
              " 'Vinna Rahmasari',\n",
              " 'Shintia Yulita Sari',\n",
              " 'Maretta Mia Audina',\n",
              " 'Salma Aulia Imama',\n",
              " 'Dhea Emma Karniasari',\n",
              " 'Khoirun Nisya',\n",
              " 'PUSPITA AMBARWATI']"
            ]
          },
          "metadata": {},
          "execution_count": 1
        }
      ],
      "source": [
        "Nama = [\"Wisnu Catur Rachmad tulloh\",\"Sindy Mei Marantika\",\"Zakiah Intan Maula\", \"Januar Nur Rasyid\",\"Lisa Nessa Safitri\",\"Hasan Darmawan\",\"SAIFUL ANDIKA\",\"Maya Isafa Sam Saputri\",\"Didi Cahyadi\",\"Izza Anggitha Aryanawa\",\"Khusnul Khotimah\",\"Badzliana Aqmar Suris\",\"Anggit Larasati\",\"Sona Regina Salsabila\",\"LELY AMALIA SAPUTRI\",\"Nastasya Dewi\",\"Ragita Anillya Putri Prasetianto\",\"Muhammad Fatah Hidayat\",\"Dwi Agustia\",\"Nia Andriani Laila\",\"Winarsi J. Bidul\",\"Heru Pranoto\",\"Reynaldi Ikbar Surya Andhika\",\"Muhammad Rafiq Amrullah\",\"Muhammad Mujahid Al-makky\",\"Fauzi Ramadhan\",\"Vinna Rahmasari\",\"Shintia Yulita Sari\",\"Maretta Mia Audina\",\"Salma Aulia Imama\",\"Dhea Emma Karniasari\",\"Khoirun Nisya\",\"PUSPITA AMBARWATI\"]\n",
        "Nama"
      ]
    },
    {
      "cell_type": "code",
      "source": [
        "NIM = [\"2100015049\",\"2100015041\",\"2100015043\",\"2100015006\",\"2100015037\",\"2215015035\",\"2100015051\",\"2200015023\",\"2200015012\",\"2200015032\",\"2100015009\",\"2100015016\",\"2000015002\",\"2000015011\",\"2211015008\",\"2200015007\",\"2200015028\",\"2200015006\",\"2000015018\",\"2000015023\",\"1900015057\",\"2200015010\",\"2200015009\",\"2200015024\",\"2200015033\",\"2000015022\"]\n",
        "NIM"
      ],
      "metadata": {
        "colab": {
          "base_uri": "https://localhost:8080/"
        },
        "id": "UfLHLku9ruhK",
        "outputId": "e26bab8c-c4f0-4a3a-c202-a97b1dbd5df2"
      },
      "id": "UfLHLku9ruhK",
      "execution_count": null,
      "outputs": [
        {
          "output_type": "execute_result",
          "data": {
            "text/plain": [
              "['2100015049',\n",
              " '2100015041',\n",
              " '2100015043',\n",
              " '2100015006',\n",
              " '2100015037',\n",
              " '2215015035',\n",
              " '2100015051',\n",
              " '2200015023',\n",
              " '2200015012',\n",
              " '2200015032',\n",
              " '2100015009',\n",
              " '2100015016',\n",
              " '2000015002',\n",
              " '2000015011',\n",
              " '2211015008',\n",
              " '2200015007',\n",
              " '2200015028',\n",
              " '2200015006',\n",
              " '2000015018',\n",
              " '2000015023',\n",
              " '1900015057',\n",
              " '2200015010',\n",
              " '2200015009',\n",
              " '2200015024',\n",
              " '2200015033',\n",
              " '2000015022']"
            ]
          },
          "metadata": {},
          "execution_count": 1
        }
      ]
    },
    {
      "cell_type": "markdown",
      "id": "0c566036-6a11-40ef-838e-82ce905e1ee7",
      "metadata": {
        "id": "0c566036-6a11-40ef-838e-82ce905e1ee7"
      },
      "source": [
        "# Soal 2"
      ]
    },
    {
      "cell_type": "markdown",
      "id": "125ff3c2-02f9-404b-adfe-430377778b9a",
      "metadata": {
        "id": "125ff3c2-02f9-404b-adfe-430377778b9a"
      },
      "source": [
        "Selanjutnya dari data diatas buatlah sebuah variabel `Angkatan` yang diperoleh dengan melakukan perulangan dan if statment pada variabel `NIM`."
      ]
    },
    {
      "cell_type": "code",
      "source": [
        "NIM = 1900015057\n",
        "if 1900000000 <= NIM < 2000000000:\n",
        "  print(NIM, \"adalah angkatan 2019\")\n",
        "if 2000000000 <= NIM < 2100000000:\n",
        "  print(NIM, \"adalah angkatan 2020\")\n",
        "if 2100000000 <= NIM < 2200000000:\n",
        "  print(NIM, \"adalah angkatan 2021\")\n",
        "if 2200000000 <= NIM < 2300000000:\n",
        "  print(NIM, \"adalah angkatan 2022\")"
      ],
      "metadata": {
        "colab": {
          "base_uri": "https://localhost:8080/"
        },
        "id": "xZP_0s9b_8UX",
        "outputId": "471bd828-4017-41fa-fbbd-373db47bcf11"
      },
      "id": "xZP_0s9b_8UX",
      "execution_count": null,
      "outputs": [
        {
          "output_type": "stream",
          "name": "stdout",
          "text": [
            "1900015057 adalah angkatan 2019\n"
          ]
        }
      ]
    },
    {
      "cell_type": "code",
      "source": [
        "NIM = 2000015018\n",
        "if 1900000000 <= NIM < 2000000000:\n",
        "  print(NIM, \"adalah angkatan 2019\")\n",
        "if 2000000000 <= NIM < 2100000000:\n",
        "  print(NIM, \"adalah angkatan 2020\")\n",
        "if 2100000000 <= NIM < 2200000000:\n",
        "  print(NIM, \"adalah angkatan 2021\")\n",
        "if 2200000000 <= NIM < 2300000000:\n",
        "  print(NIM, \"adalah angkatan 2022\")"
      ],
      "metadata": {
        "colab": {
          "base_uri": "https://localhost:8080/"
        },
        "id": "FY4ipCMl_7XF",
        "outputId": "14baf25f-0acf-41ff-d372-6c3a64384441"
      },
      "id": "FY4ipCMl_7XF",
      "execution_count": null,
      "outputs": [
        {
          "output_type": "stream",
          "name": "stdout",
          "text": [
            "2000015018 adalah angkatan 2020\n"
          ]
        }
      ]
    },
    {
      "cell_type": "code",
      "source": [
        "NIM = 2100015049\n",
        "if 1900000000 <= NIM < 2000000000:\n",
        "  print(NIM, \"adalah angkatan 2019\")\n",
        "if 2000000000 <= NIM < 2100000000:\n",
        "  print(NIM, \"adalah angkatan 2020\")\n",
        "if 2100000000 <= NIM < 2200000000:\n",
        "  print(NIM, \"adalah angkatan 2021\")\n",
        "if 2200000000 <= NIM < 2300000000:\n",
        "  print(NIM, \"adalah angkatan 2022\")"
      ],
      "metadata": {
        "colab": {
          "base_uri": "https://localhost:8080/"
        },
        "id": "aYvU4tev9V0Z",
        "outputId": "942b2c49-7b95-484d-9520-4f9bc389188f"
      },
      "id": "aYvU4tev9V0Z",
      "execution_count": null,
      "outputs": [
        {
          "output_type": "stream",
          "name": "stdout",
          "text": [
            "2100015049 adalah angkatan 2021\n"
          ]
        }
      ]
    },
    {
      "cell_type": "code",
      "source": [
        "NIM = 2200015033\n",
        "if 1900000000 <= NIM < 2000000000:\n",
        "  print(NIM, \"adalah angkatan 2019\")\n",
        "if 2000000000 <= NIM < 2100000000:\n",
        "  print(NIM, \"adalah angkatan 2020\")\n",
        "if 2100000000 <= NIM < 2200000000:\n",
        "  print(NIM, \"adalah angkatan 2021\")\n",
        "if 2200000000 <= NIM < 2300000000:\n",
        "  print(NIM, \"adalah angkatan 2022\")"
      ],
      "metadata": {
        "colab": {
          "base_uri": "https://localhost:8080/"
        },
        "id": "4Qdsp7HT_3l8",
        "outputId": "05def4a3-2cd8-466c-e41f-d3b2afba9301"
      },
      "id": "4Qdsp7HT_3l8",
      "execution_count": null,
      "outputs": [
        {
          "output_type": "stream",
          "name": "stdout",
          "text": [
            "2200015033 adalah angkatan 2022\n"
          ]
        }
      ]
    },
    {
      "cell_type": "markdown",
      "id": "d1e00843-e11e-4b40-b0e2-8d7bff5ee08b",
      "metadata": {
        "id": "d1e00843-e11e-4b40-b0e2-8d7bff5ee08b"
      },
      "source": [
        "# Soal 3 "
      ]
    },
    {
      "cell_type": "markdown",
      "id": "564932e9-573b-4631-880e-cb2c97564dab",
      "metadata": {
        "id": "564932e9-573b-4631-880e-cb2c97564dab"
      },
      "source": [
        "Setelah menemukan variabel `Angkatan` silahkan untuk membuat dictionary `Nama`,`NIM`, dan `Angkatan`."
      ]
    },
    {
      "cell_type": "code",
      "source": [
        "data_peserta = {\n",
        "    'Wisnu Catur Rachmad tulloh' : 'NIM 2100015049 Angkatan 2021',\n",
        "    'Sindy Mei Marantika' : 'NIM 2100015041 Angkatan 2021',\n",
        "    'Zakiah Intan Maula' : 'NIM 2100015043 Angkatan 2021',\n",
        "    'Januar Nur Rasyid' : 'NIM 2100015006 Angkatan 2021',\n",
        "    'Lisa Nessa Safitri' : 'NIM 2100015037 Angkatan 2021',\n",
        "    'Hasan Darmawan' : 'NIM 2215015035 Angkatan 2022',\n",
        "    'SAIFUL ANDIKA' : 'NIM 2100015051 Angkatan 2021',\n",
        "    'Maya Isafa Sam Saputri' : 'NIM 2200015023 Angkatan 2022',\n",
        "    'Didi Cahyadi' : 'NIM 2200015012 Angkatan 2022',\n",
        "    'Izza Anggita Aryawana' : ' NIM 2200015032 Angkatan 2022',\n",
        "    'Khusnul Khotimah' : 'NIM 2100015009 Angkatan 2021',\n",
        "    'Badzliana Aqmar Suris' : 'NIM 2100015016 Angkatan 2021',\n",
        "    'Anggit Larasati' : 'NIM 2100015036 Angkatan 2021',\n",
        "    'LELY AMALIA SAPUTRI' : 'NIM 2100015050 Angkatan 2021',\n",
        "    'Nastasya Dewi' : 'NIM 2100015010 Angkatan 2021',\n",
        "    'Ragita Anillya Putri Prasetianto' : 'NIM 2100015002 Angkatan 2021',\n",
        "    'Muhammad Fatah Hidayat' : 'NIM 2200015002 Angkatan 2022',\n",
        "    'Dwi Agustina' : 'NIM 2000015016 Angkatan 2020',\n",
        "    'Nia Andriani Laila' : 'NIM 2000015002 Angkatan 2020',\n",
        "    'Winarsi J. Bidul' : 'NIM 2000015011 Angkatan 2020',\n",
        "    'Heru Pranoto' : 'NIM 2211015008 Angkatan 2022',\n",
        "    'Reynaldi Ikbar Surya Andhika' : 'NIM 2200015007 Angkatan 2022',\n",
        "    'Muhammad Rafiq Amrullah' : 'NIM 2200015028 Angkatan 2022',\n",
        "    'Muhammad Mujahid Al-makky' : 'NIM 2200015006 Angkatan 2022',\n",
        "    'Fauzi Ramadhan' : 'NIM 2000015018 Angkatan 2020',\n",
        "    'Vinna Rahmasari' : 'NIM 2000015023 Angkatan 2020',\n",
        "    'Shintia Yulita Sari' : 'NIM 1900015057',\n",
        "    'Maretta Mia Audina' : 'NIM 2200015010 Angkatan 2022',\n",
        "    'Salma Aulia Imama' : 'NIM 2200015009 Angkatan 2022',\n",
        "    'Dhea Emma Karniasari' : 'NIM 2200015024 Angkatan 2022',\n",
        "    'Khoirun Nisya' : 'NIM 2200015033 Angkatan 2022',\n",
        "    'PUSPITA AMBARWATI' : 'NIM 2000015022 Angkatan 2020'\n",
        "    }\n",
        "print(data_peserta['Salma Aulia Imama'])"
      ],
      "metadata": {
        "colab": {
          "base_uri": "https://localhost:8080/"
        },
        "id": "rTTNkT16DcPG",
        "outputId": "3a52bf66-7a7c-415c-ccf7-fee88f1de760"
      },
      "id": "rTTNkT16DcPG",
      "execution_count": 1,
      "outputs": [
        {
          "output_type": "stream",
          "name": "stdout",
          "text": [
            "NIM 2200015009 Angkatan 2022\n"
          ]
        }
      ]
    },
    {
      "cell_type": "markdown",
      "id": "7d21cf23-1f75-45c8-850a-021a591c78bc",
      "metadata": {
        "id": "7d21cf23-1f75-45c8-850a-021a591c78bc"
      },
      "source": [
        "# Soal 4"
      ]
    },
    {
      "cell_type": "markdown",
      "id": "81a17f42-68f4-438a-9f2f-6c8f91c5c6d7",
      "metadata": {
        "id": "81a17f42-68f4-438a-9f2f-6c8f91c5c6d7"
      },
      "source": [
        "Lakukan convert kedalam bentuk data frame dan beri nama `df`"
      ]
    },
    {
      "cell_type": "code",
      "execution_count": null,
      "id": "bd74ba20-fa85-4f41-9b81-ba165f6fd95f",
      "metadata": {
        "id": "bd74ba20-fa85-4f41-9b81-ba165f6fd95f",
        "colab": {
          "base_uri": "https://localhost:8080/",
          "height": 1000
        },
        "outputId": "237c8f94-28d8-40c2-e113-cb79402420a9"
      },
      "outputs": [
        {
          "output_type": "execute_result",
          "data": {
            "text/plain": [
              "                                Nama         NIM\n",
              "0         Wisnu Catur Rachmad tulloh  2100015049\n",
              "1                Sindy Mey Marantika  2100015041\n",
              "2                 Zakiah Intan Maula  2100015043\n",
              "3                  Januar Nur Rasyid  2100015006\n",
              "4                 Lisa Nessa Safitri  2100015037\n",
              "5                     Hasan Darmawan  2215015035\n",
              "6                      SAIFUL ANDIKA  2100015051\n",
              "7             Maya Isafa Sam Saputri  2200015023\n",
              "8                       Didi Cahyadi  2200015012\n",
              "9              Izza Anggita Aryanawa  2200015033\n",
              "10                  Khusnul Khotimah  2100015009\n",
              "11            Badziliana Aqmar Suris  2100015016\n",
              "12                   Anggit Larasati  2100015036\n",
              "13             Sona Regina Salsabila  2100015053\n",
              "14               LELY AMALIA SAPUTRI  2100015050\n",
              "15                     Nastasya Dewi  2100015010\n",
              "16  Ragita Anillya Putri Prasetianto  2100015002\n",
              "17            Muhammad Fatah Hidayat  2200015002\n",
              "18                      Dwi Agustina  2000015016\n",
              "19                Nia Andriani Laila  2000015002\n",
              "20                   Winarsi J.Bidul  2000015011\n",
              "21                      Heru Pranoto  2211015008\n",
              "22      Reynaldi Ikbar Surya Andhika  2200015007\n",
              "23           Muhammad Rafiq Amrulloh  2200015028\n",
              "24         Muhammad Mujahid Al-makky  2200015006\n",
              "25                    Fauzi Ramadhan  2000015018\n",
              "26                   Vinna Rahmasari  2000015023\n",
              "27               Shintia Yulita Sari  1900015057\n",
              "28                Maretta Mia Audina  2200015010\n",
              "29                 Salma Aulia Imama  2200015009\n",
              "30               Dhe Emma Karniasari  2200015024\n",
              "31                     Khoirun Nisya  2200015033\n",
              "32                 PUSPITA AMBARWATI  2000015022"
            ],
            "text/html": [
              "\n",
              "  <div id=\"df-eeb0a146-3c6a-4bc1-8e6e-d23abc07e363\">\n",
              "    <div class=\"colab-df-container\">\n",
              "      <div>\n",
              "<style scoped>\n",
              "    .dataframe tbody tr th:only-of-type {\n",
              "        vertical-align: middle;\n",
              "    }\n",
              "\n",
              "    .dataframe tbody tr th {\n",
              "        vertical-align: top;\n",
              "    }\n",
              "\n",
              "    .dataframe thead th {\n",
              "        text-align: right;\n",
              "    }\n",
              "</style>\n",
              "<table border=\"1\" class=\"dataframe\">\n",
              "  <thead>\n",
              "    <tr style=\"text-align: right;\">\n",
              "      <th></th>\n",
              "      <th>Nama</th>\n",
              "      <th>NIM</th>\n",
              "    </tr>\n",
              "  </thead>\n",
              "  <tbody>\n",
              "    <tr>\n",
              "      <th>0</th>\n",
              "      <td>Wisnu Catur Rachmad tulloh</td>\n",
              "      <td>2100015049</td>\n",
              "    </tr>\n",
              "    <tr>\n",
              "      <th>1</th>\n",
              "      <td>Sindy Mey Marantika</td>\n",
              "      <td>2100015041</td>\n",
              "    </tr>\n",
              "    <tr>\n",
              "      <th>2</th>\n",
              "      <td>Zakiah Intan Maula</td>\n",
              "      <td>2100015043</td>\n",
              "    </tr>\n",
              "    <tr>\n",
              "      <th>3</th>\n",
              "      <td>Januar Nur Rasyid</td>\n",
              "      <td>2100015006</td>\n",
              "    </tr>\n",
              "    <tr>\n",
              "      <th>4</th>\n",
              "      <td>Lisa Nessa Safitri</td>\n",
              "      <td>2100015037</td>\n",
              "    </tr>\n",
              "    <tr>\n",
              "      <th>5</th>\n",
              "      <td>Hasan Darmawan</td>\n",
              "      <td>2215015035</td>\n",
              "    </tr>\n",
              "    <tr>\n",
              "      <th>6</th>\n",
              "      <td>SAIFUL ANDIKA</td>\n",
              "      <td>2100015051</td>\n",
              "    </tr>\n",
              "    <tr>\n",
              "      <th>7</th>\n",
              "      <td>Maya Isafa Sam Saputri</td>\n",
              "      <td>2200015023</td>\n",
              "    </tr>\n",
              "    <tr>\n",
              "      <th>8</th>\n",
              "      <td>Didi Cahyadi</td>\n",
              "      <td>2200015012</td>\n",
              "    </tr>\n",
              "    <tr>\n",
              "      <th>9</th>\n",
              "      <td>Izza Anggita Aryanawa</td>\n",
              "      <td>2200015033</td>\n",
              "    </tr>\n",
              "    <tr>\n",
              "      <th>10</th>\n",
              "      <td>Khusnul Khotimah</td>\n",
              "      <td>2100015009</td>\n",
              "    </tr>\n",
              "    <tr>\n",
              "      <th>11</th>\n",
              "      <td>Badziliana Aqmar Suris</td>\n",
              "      <td>2100015016</td>\n",
              "    </tr>\n",
              "    <tr>\n",
              "      <th>12</th>\n",
              "      <td>Anggit Larasati</td>\n",
              "      <td>2100015036</td>\n",
              "    </tr>\n",
              "    <tr>\n",
              "      <th>13</th>\n",
              "      <td>Sona Regina Salsabila</td>\n",
              "      <td>2100015053</td>\n",
              "    </tr>\n",
              "    <tr>\n",
              "      <th>14</th>\n",
              "      <td>LELY AMALIA SAPUTRI</td>\n",
              "      <td>2100015050</td>\n",
              "    </tr>\n",
              "    <tr>\n",
              "      <th>15</th>\n",
              "      <td>Nastasya Dewi</td>\n",
              "      <td>2100015010</td>\n",
              "    </tr>\n",
              "    <tr>\n",
              "      <th>16</th>\n",
              "      <td>Ragita Anillya Putri Prasetianto</td>\n",
              "      <td>2100015002</td>\n",
              "    </tr>\n",
              "    <tr>\n",
              "      <th>17</th>\n",
              "      <td>Muhammad Fatah Hidayat</td>\n",
              "      <td>2200015002</td>\n",
              "    </tr>\n",
              "    <tr>\n",
              "      <th>18</th>\n",
              "      <td>Dwi Agustina</td>\n",
              "      <td>2000015016</td>\n",
              "    </tr>\n",
              "    <tr>\n",
              "      <th>19</th>\n",
              "      <td>Nia Andriani Laila</td>\n",
              "      <td>2000015002</td>\n",
              "    </tr>\n",
              "    <tr>\n",
              "      <th>20</th>\n",
              "      <td>Winarsi J.Bidul</td>\n",
              "      <td>2000015011</td>\n",
              "    </tr>\n",
              "    <tr>\n",
              "      <th>21</th>\n",
              "      <td>Heru Pranoto</td>\n",
              "      <td>2211015008</td>\n",
              "    </tr>\n",
              "    <tr>\n",
              "      <th>22</th>\n",
              "      <td>Reynaldi Ikbar Surya Andhika</td>\n",
              "      <td>2200015007</td>\n",
              "    </tr>\n",
              "    <tr>\n",
              "      <th>23</th>\n",
              "      <td>Muhammad Rafiq Amrulloh</td>\n",
              "      <td>2200015028</td>\n",
              "    </tr>\n",
              "    <tr>\n",
              "      <th>24</th>\n",
              "      <td>Muhammad Mujahid Al-makky</td>\n",
              "      <td>2200015006</td>\n",
              "    </tr>\n",
              "    <tr>\n",
              "      <th>25</th>\n",
              "      <td>Fauzi Ramadhan</td>\n",
              "      <td>2000015018</td>\n",
              "    </tr>\n",
              "    <tr>\n",
              "      <th>26</th>\n",
              "      <td>Vinna Rahmasari</td>\n",
              "      <td>2000015023</td>\n",
              "    </tr>\n",
              "    <tr>\n",
              "      <th>27</th>\n",
              "      <td>Shintia Yulita Sari</td>\n",
              "      <td>1900015057</td>\n",
              "    </tr>\n",
              "    <tr>\n",
              "      <th>28</th>\n",
              "      <td>Maretta Mia Audina</td>\n",
              "      <td>2200015010</td>\n",
              "    </tr>\n",
              "    <tr>\n",
              "      <th>29</th>\n",
              "      <td>Salma Aulia Imama</td>\n",
              "      <td>2200015009</td>\n",
              "    </tr>\n",
              "    <tr>\n",
              "      <th>30</th>\n",
              "      <td>Dhe Emma Karniasari</td>\n",
              "      <td>2200015024</td>\n",
              "    </tr>\n",
              "    <tr>\n",
              "      <th>31</th>\n",
              "      <td>Khoirun Nisya</td>\n",
              "      <td>2200015033</td>\n",
              "    </tr>\n",
              "    <tr>\n",
              "      <th>32</th>\n",
              "      <td>PUSPITA AMBARWATI</td>\n",
              "      <td>2000015022</td>\n",
              "    </tr>\n",
              "  </tbody>\n",
              "</table>\n",
              "</div>\n",
              "      <button class=\"colab-df-convert\" onclick=\"convertToInteractive('df-eeb0a146-3c6a-4bc1-8e6e-d23abc07e363')\"\n",
              "              title=\"Convert this dataframe to an interactive table.\"\n",
              "              style=\"display:none;\">\n",
              "        \n",
              "  <svg xmlns=\"http://www.w3.org/2000/svg\" height=\"24px\"viewBox=\"0 0 24 24\"\n",
              "       width=\"24px\">\n",
              "    <path d=\"M0 0h24v24H0V0z\" fill=\"none\"/>\n",
              "    <path d=\"M18.56 5.44l.94 2.06.94-2.06 2.06-.94-2.06-.94-.94-2.06-.94 2.06-2.06.94zm-11 1L8.5 8.5l.94-2.06 2.06-.94-2.06-.94L8.5 2.5l-.94 2.06-2.06.94zm10 10l.94 2.06.94-2.06 2.06-.94-2.06-.94-.94-2.06-.94 2.06-2.06.94z\"/><path d=\"M17.41 7.96l-1.37-1.37c-.4-.4-.92-.59-1.43-.59-.52 0-1.04.2-1.43.59L10.3 9.45l-7.72 7.72c-.78.78-.78 2.05 0 2.83L4 21.41c.39.39.9.59 1.41.59.51 0 1.02-.2 1.41-.59l7.78-7.78 2.81-2.81c.8-.78.8-2.07 0-2.86zM5.41 20L4 18.59l7.72-7.72 1.47 1.35L5.41 20z\"/>\n",
              "  </svg>\n",
              "      </button>\n",
              "      \n",
              "  <style>\n",
              "    .colab-df-container {\n",
              "      display:flex;\n",
              "      flex-wrap:wrap;\n",
              "      gap: 12px;\n",
              "    }\n",
              "\n",
              "    .colab-df-convert {\n",
              "      background-color: #E8F0FE;\n",
              "      border: none;\n",
              "      border-radius: 50%;\n",
              "      cursor: pointer;\n",
              "      display: none;\n",
              "      fill: #1967D2;\n",
              "      height: 32px;\n",
              "      padding: 0 0 0 0;\n",
              "      width: 32px;\n",
              "    }\n",
              "\n",
              "    .colab-df-convert:hover {\n",
              "      background-color: #E2EBFA;\n",
              "      box-shadow: 0px 1px 2px rgba(60, 64, 67, 0.3), 0px 1px 3px 1px rgba(60, 64, 67, 0.15);\n",
              "      fill: #174EA6;\n",
              "    }\n",
              "\n",
              "    [theme=dark] .colab-df-convert {\n",
              "      background-color: #3B4455;\n",
              "      fill: #D2E3FC;\n",
              "    }\n",
              "\n",
              "    [theme=dark] .colab-df-convert:hover {\n",
              "      background-color: #434B5C;\n",
              "      box-shadow: 0px 1px 3px 1px rgba(0, 0, 0, 0.15);\n",
              "      filter: drop-shadow(0px 1px 2px rgba(0, 0, 0, 0.3));\n",
              "      fill: #FFFFFF;\n",
              "    }\n",
              "  </style>\n",
              "\n",
              "      <script>\n",
              "        const buttonEl =\n",
              "          document.querySelector('#df-eeb0a146-3c6a-4bc1-8e6e-d23abc07e363 button.colab-df-convert');\n",
              "        buttonEl.style.display =\n",
              "          google.colab.kernel.accessAllowed ? 'block' : 'none';\n",
              "\n",
              "        async function convertToInteractive(key) {\n",
              "          const element = document.querySelector('#df-eeb0a146-3c6a-4bc1-8e6e-d23abc07e363');\n",
              "          const dataTable =\n",
              "            await google.colab.kernel.invokeFunction('convertToInteractive',\n",
              "                                                     [key], {});\n",
              "          if (!dataTable) return;\n",
              "\n",
              "          const docLinkHtml = 'Like what you see? Visit the ' +\n",
              "            '<a target=\"_blank\" href=https://colab.research.google.com/notebooks/data_table.ipynb>data table notebook</a>'\n",
              "            + ' to learn more about interactive tables.';\n",
              "          element.innerHTML = '';\n",
              "          dataTable['output_type'] = 'display_data';\n",
              "          await google.colab.output.renderOutput(dataTable, element);\n",
              "          const docLink = document.createElement('div');\n",
              "          docLink.innerHTML = docLinkHtml;\n",
              "          element.appendChild(docLink);\n",
              "        }\n",
              "      </script>\n",
              "    </div>\n",
              "  </div>\n",
              "  "
            ]
          },
          "metadata": {},
          "execution_count": 39
        }
      ],
      "source": [
        "import pandas as pd\n",
        "\n",
        "psds = {'Nama': ['Wisnu Catur Rachmad tulloh', 'Sindy Mey Marantika', 'Zakiah Intan Maula', 'Januar Nur Rasyid', 'Lisa Nessa Safitri', 'Hasan Darmawan', 'SAIFUL ANDIKA', 'Maya Isafa Sam Saputri', 'Didi Cahyadi', 'Izza Anggita Aryanawa', 'Khusnul Khotimah', 'Badziliana Aqmar Suris', 'Anggit Larasati', 'Sona Regina Salsabila', 'LELY AMALIA SAPUTRI', 'Nastasya Dewi', 'Ragita Anillya Putri Prasetianto', 'Muhammad Fatah Hidayat', 'Dwi Agustina', 'Nia Andriani Laila', 'Winarsi J.Bidul', 'Heru Pranoto', 'Reynaldi Ikbar Surya Andhika', 'Muhammad Rafiq Amrulloh', 'Muhammad Mujahid Al-makky', 'Fauzi Ramadhan', 'Vinna Rahmasari', 'Shintia Yulita Sari', 'Maretta Mia Audina', 'Salma Aulia Imama', 'Dhe Emma Karniasari', 'Khoirun Nisya', 'PUSPITA AMBARWATI'],\n",
        "         'NIM': [2100015049, 2100015041, 2100015043, 2100015006, 2100015037, 2215015035, 2100015051, 2200015023, 2200015012, 2200015033, 2100015009, 2100015016, 2100015036, 2100015053, 2100015050, 2100015010, 2100015002, 2200015002, 2000015016, 2000015002, 2000015011, 2211015008, 2200015007, 2200015028, 2200015006, 2000015018, 2000015023, 1900015057, 2200015010, 2200015009, 2200015024, 2200015033, 2000015022]\n",
        "         }\n",
        "\n",
        "df = pd.DataFrame(psds)\n",
        "\n",
        "df"
      ]
    },
    {
      "cell_type": "markdown",
      "id": "41b28f8e-e4f9-43e3-9410-d71b735a364e",
      "metadata": {
        "id": "41b28f8e-e4f9-43e3-9410-d71b735a364e"
      },
      "source": [
        "# Soal 5"
      ]
    },
    {
      "cell_type": "markdown",
      "id": "ebc7f899-5ad7-41a2-a9c2-2883a76d16ca",
      "metadata": {
        "id": "ebc7f899-5ad7-41a2-a9c2-2883a76d16ca"
      },
      "source": [
        "Buatlah Visualisasi dengan menggunakan `pie chart` dengan menunjukan banyaknya orang setiap angkatan yang mengikuti PD 4.0"
      ]
    },
    {
      "cell_type": "code",
      "execution_count": null,
      "id": "1d0b8ca4-bb91-4108-a293-a809af0ed57b",
      "metadata": {
        "id": "1d0b8ca4-bb91-4108-a293-a809af0ed57b",
        "colab": {
          "base_uri": "https://localhost:8080/",
          "height": 542
        },
        "outputId": "21edc32b-c0c1-4568-e19b-a3e87cb56c2e"
      },
      "outputs": [
        {
          "output_type": "display_data",
          "data": {
            "text/html": [
              "<html>\n",
              "<head><meta charset=\"utf-8\" /></head>\n",
              "<body>\n",
              "    <div>            <script src=\"https://cdnjs.cloudflare.com/ajax/libs/mathjax/2.7.5/MathJax.js?config=TeX-AMS-MML_SVG\"></script><script type=\"text/javascript\">if (window.MathJax) {MathJax.Hub.Config({SVG: {font: \"STIX-Web\"}});}</script>                <script type=\"text/javascript\">window.PlotlyConfig = {MathJaxConfig: 'local'};</script>\n",
              "        <script src=\"https://cdn.plot.ly/plotly-2.8.3.min.js\"></script>                <div id=\"06c0dab2-5333-4da4-a02c-98d4b0101294\" class=\"plotly-graph-div\" style=\"height:525px; width:100%;\"></div>            <script type=\"text/javascript\">                                    window.PLOTLYENV=window.PLOTLYENV || {};                                    if (document.getElementById(\"06c0dab2-5333-4da4-a02c-98d4b0101294\")) {                    Plotly.newPlot(                        \"06c0dab2-5333-4da4-a02c-98d4b0101294\",                        [{\"labels\":[\"Angkatan 2019\",\"Angkatan 2020\",\"Angkatan 2021\",\"Angkatan 2022\"],\"values\":[1,5,13,13],\"type\":\"pie\"}],                        {\"template\":{\"data\":{\"bar\":[{\"error_x\":{\"color\":\"#2a3f5f\"},\"error_y\":{\"color\":\"#2a3f5f\"},\"marker\":{\"line\":{\"color\":\"#E5ECF6\",\"width\":0.5},\"pattern\":{\"fillmode\":\"overlay\",\"size\":10,\"solidity\":0.2}},\"type\":\"bar\"}],\"barpolar\":[{\"marker\":{\"line\":{\"color\":\"#E5ECF6\",\"width\":0.5},\"pattern\":{\"fillmode\":\"overlay\",\"size\":10,\"solidity\":0.2}},\"type\":\"barpolar\"}],\"carpet\":[{\"aaxis\":{\"endlinecolor\":\"#2a3f5f\",\"gridcolor\":\"white\",\"linecolor\":\"white\",\"minorgridcolor\":\"white\",\"startlinecolor\":\"#2a3f5f\"},\"baxis\":{\"endlinecolor\":\"#2a3f5f\",\"gridcolor\":\"white\",\"linecolor\":\"white\",\"minorgridcolor\":\"white\",\"startlinecolor\":\"#2a3f5f\"},\"type\":\"carpet\"}],\"choropleth\":[{\"colorbar\":{\"outlinewidth\":0,\"ticks\":\"\"},\"type\":\"choropleth\"}],\"contour\":[{\"colorbar\":{\"outlinewidth\":0,\"ticks\":\"\"},\"colorscale\":[[0.0,\"#0d0887\"],[0.1111111111111111,\"#46039f\"],[0.2222222222222222,\"#7201a8\"],[0.3333333333333333,\"#9c179e\"],[0.4444444444444444,\"#bd3786\"],[0.5555555555555556,\"#d8576b\"],[0.6666666666666666,\"#ed7953\"],[0.7777777777777778,\"#fb9f3a\"],[0.8888888888888888,\"#fdca26\"],[1.0,\"#f0f921\"]],\"type\":\"contour\"}],\"contourcarpet\":[{\"colorbar\":{\"outlinewidth\":0,\"ticks\":\"\"},\"type\":\"contourcarpet\"}],\"heatmap\":[{\"colorbar\":{\"outlinewidth\":0,\"ticks\":\"\"},\"colorscale\":[[0.0,\"#0d0887\"],[0.1111111111111111,\"#46039f\"],[0.2222222222222222,\"#7201a8\"],[0.3333333333333333,\"#9c179e\"],[0.4444444444444444,\"#bd3786\"],[0.5555555555555556,\"#d8576b\"],[0.6666666666666666,\"#ed7953\"],[0.7777777777777778,\"#fb9f3a\"],[0.8888888888888888,\"#fdca26\"],[1.0,\"#f0f921\"]],\"type\":\"heatmap\"}],\"heatmapgl\":[{\"colorbar\":{\"outlinewidth\":0,\"ticks\":\"\"},\"colorscale\":[[0.0,\"#0d0887\"],[0.1111111111111111,\"#46039f\"],[0.2222222222222222,\"#7201a8\"],[0.3333333333333333,\"#9c179e\"],[0.4444444444444444,\"#bd3786\"],[0.5555555555555556,\"#d8576b\"],[0.6666666666666666,\"#ed7953\"],[0.7777777777777778,\"#fb9f3a\"],[0.8888888888888888,\"#fdca26\"],[1.0,\"#f0f921\"]],\"type\":\"heatmapgl\"}],\"histogram\":[{\"marker\":{\"pattern\":{\"fillmode\":\"overlay\",\"size\":10,\"solidity\":0.2}},\"type\":\"histogram\"}],\"histogram2d\":[{\"colorbar\":{\"outlinewidth\":0,\"ticks\":\"\"},\"colorscale\":[[0.0,\"#0d0887\"],[0.1111111111111111,\"#46039f\"],[0.2222222222222222,\"#7201a8\"],[0.3333333333333333,\"#9c179e\"],[0.4444444444444444,\"#bd3786\"],[0.5555555555555556,\"#d8576b\"],[0.6666666666666666,\"#ed7953\"],[0.7777777777777778,\"#fb9f3a\"],[0.8888888888888888,\"#fdca26\"],[1.0,\"#f0f921\"]],\"type\":\"histogram2d\"}],\"histogram2dcontour\":[{\"colorbar\":{\"outlinewidth\":0,\"ticks\":\"\"},\"colorscale\":[[0.0,\"#0d0887\"],[0.1111111111111111,\"#46039f\"],[0.2222222222222222,\"#7201a8\"],[0.3333333333333333,\"#9c179e\"],[0.4444444444444444,\"#bd3786\"],[0.5555555555555556,\"#d8576b\"],[0.6666666666666666,\"#ed7953\"],[0.7777777777777778,\"#fb9f3a\"],[0.8888888888888888,\"#fdca26\"],[1.0,\"#f0f921\"]],\"type\":\"histogram2dcontour\"}],\"mesh3d\":[{\"colorbar\":{\"outlinewidth\":0,\"ticks\":\"\"},\"type\":\"mesh3d\"}],\"parcoords\":[{\"line\":{\"colorbar\":{\"outlinewidth\":0,\"ticks\":\"\"}},\"type\":\"parcoords\"}],\"pie\":[{\"automargin\":true,\"type\":\"pie\"}],\"scatter\":[{\"marker\":{\"colorbar\":{\"outlinewidth\":0,\"ticks\":\"\"}},\"type\":\"scatter\"}],\"scatter3d\":[{\"line\":{\"colorbar\":{\"outlinewidth\":0,\"ticks\":\"\"}},\"marker\":{\"colorbar\":{\"outlinewidth\":0,\"ticks\":\"\"}},\"type\":\"scatter3d\"}],\"scattercarpet\":[{\"marker\":{\"colorbar\":{\"outlinewidth\":0,\"ticks\":\"\"}},\"type\":\"scattercarpet\"}],\"scattergeo\":[{\"marker\":{\"colorbar\":{\"outlinewidth\":0,\"ticks\":\"\"}},\"type\":\"scattergeo\"}],\"scattergl\":[{\"marker\":{\"colorbar\":{\"outlinewidth\":0,\"ticks\":\"\"}},\"type\":\"scattergl\"}],\"scattermapbox\":[{\"marker\":{\"colorbar\":{\"outlinewidth\":0,\"ticks\":\"\"}},\"type\":\"scattermapbox\"}],\"scatterpolar\":[{\"marker\":{\"colorbar\":{\"outlinewidth\":0,\"ticks\":\"\"}},\"type\":\"scatterpolar\"}],\"scatterpolargl\":[{\"marker\":{\"colorbar\":{\"outlinewidth\":0,\"ticks\":\"\"}},\"type\":\"scatterpolargl\"}],\"scatterternary\":[{\"marker\":{\"colorbar\":{\"outlinewidth\":0,\"ticks\":\"\"}},\"type\":\"scatterternary\"}],\"surface\":[{\"colorbar\":{\"outlinewidth\":0,\"ticks\":\"\"},\"colorscale\":[[0.0,\"#0d0887\"],[0.1111111111111111,\"#46039f\"],[0.2222222222222222,\"#7201a8\"],[0.3333333333333333,\"#9c179e\"],[0.4444444444444444,\"#bd3786\"],[0.5555555555555556,\"#d8576b\"],[0.6666666666666666,\"#ed7953\"],[0.7777777777777778,\"#fb9f3a\"],[0.8888888888888888,\"#fdca26\"],[1.0,\"#f0f921\"]],\"type\":\"surface\"}],\"table\":[{\"cells\":{\"fill\":{\"color\":\"#EBF0F8\"},\"line\":{\"color\":\"white\"}},\"header\":{\"fill\":{\"color\":\"#C8D4E3\"},\"line\":{\"color\":\"white\"}},\"type\":\"table\"}]},\"layout\":{\"annotationdefaults\":{\"arrowcolor\":\"#2a3f5f\",\"arrowhead\":0,\"arrowwidth\":1},\"autotypenumbers\":\"strict\",\"coloraxis\":{\"colorbar\":{\"outlinewidth\":0,\"ticks\":\"\"}},\"colorscale\":{\"diverging\":[[0,\"#8e0152\"],[0.1,\"#c51b7d\"],[0.2,\"#de77ae\"],[0.3,\"#f1b6da\"],[0.4,\"#fde0ef\"],[0.5,\"#f7f7f7\"],[0.6,\"#e6f5d0\"],[0.7,\"#b8e186\"],[0.8,\"#7fbc41\"],[0.9,\"#4d9221\"],[1,\"#276419\"]],\"sequential\":[[0.0,\"#0d0887\"],[0.1111111111111111,\"#46039f\"],[0.2222222222222222,\"#7201a8\"],[0.3333333333333333,\"#9c179e\"],[0.4444444444444444,\"#bd3786\"],[0.5555555555555556,\"#d8576b\"],[0.6666666666666666,\"#ed7953\"],[0.7777777777777778,\"#fb9f3a\"],[0.8888888888888888,\"#fdca26\"],[1.0,\"#f0f921\"]],\"sequentialminus\":[[0.0,\"#0d0887\"],[0.1111111111111111,\"#46039f\"],[0.2222222222222222,\"#7201a8\"],[0.3333333333333333,\"#9c179e\"],[0.4444444444444444,\"#bd3786\"],[0.5555555555555556,\"#d8576b\"],[0.6666666666666666,\"#ed7953\"],[0.7777777777777778,\"#fb9f3a\"],[0.8888888888888888,\"#fdca26\"],[1.0,\"#f0f921\"]]},\"colorway\":[\"#636efa\",\"#EF553B\",\"#00cc96\",\"#ab63fa\",\"#FFA15A\",\"#19d3f3\",\"#FF6692\",\"#B6E880\",\"#FF97FF\",\"#FECB52\"],\"font\":{\"color\":\"#2a3f5f\"},\"geo\":{\"bgcolor\":\"white\",\"lakecolor\":\"white\",\"landcolor\":\"#E5ECF6\",\"showlakes\":true,\"showland\":true,\"subunitcolor\":\"white\"},\"hoverlabel\":{\"align\":\"left\"},\"hovermode\":\"closest\",\"mapbox\":{\"style\":\"light\"},\"paper_bgcolor\":\"white\",\"plot_bgcolor\":\"#E5ECF6\",\"polar\":{\"angularaxis\":{\"gridcolor\":\"white\",\"linecolor\":\"white\",\"ticks\":\"\"},\"bgcolor\":\"#E5ECF6\",\"radialaxis\":{\"gridcolor\":\"white\",\"linecolor\":\"white\",\"ticks\":\"\"}},\"scene\":{\"xaxis\":{\"backgroundcolor\":\"#E5ECF6\",\"gridcolor\":\"white\",\"gridwidth\":2,\"linecolor\":\"white\",\"showbackground\":true,\"ticks\":\"\",\"zerolinecolor\":\"white\"},\"yaxis\":{\"backgroundcolor\":\"#E5ECF6\",\"gridcolor\":\"white\",\"gridwidth\":2,\"linecolor\":\"white\",\"showbackground\":true,\"ticks\":\"\",\"zerolinecolor\":\"white\"},\"zaxis\":{\"backgroundcolor\":\"#E5ECF6\",\"gridcolor\":\"white\",\"gridwidth\":2,\"linecolor\":\"white\",\"showbackground\":true,\"ticks\":\"\",\"zerolinecolor\":\"white\"}},\"shapedefaults\":{\"line\":{\"color\":\"#2a3f5f\"}},\"ternary\":{\"aaxis\":{\"gridcolor\":\"white\",\"linecolor\":\"white\",\"ticks\":\"\"},\"baxis\":{\"gridcolor\":\"white\",\"linecolor\":\"white\",\"ticks\":\"\"},\"bgcolor\":\"#E5ECF6\",\"caxis\":{\"gridcolor\":\"white\",\"linecolor\":\"white\",\"ticks\":\"\"}},\"title\":{\"x\":0.05},\"xaxis\":{\"automargin\":true,\"gridcolor\":\"white\",\"linecolor\":\"white\",\"ticks\":\"\",\"title\":{\"standoff\":15},\"zerolinecolor\":\"white\",\"zerolinewidth\":2},\"yaxis\":{\"automargin\":true,\"gridcolor\":\"white\",\"linecolor\":\"white\",\"ticks\":\"\",\"title\":{\"standoff\":15},\"zerolinecolor\":\"white\",\"zerolinewidth\":2}}}},                        {\"responsive\": true}                    ).then(function(){\n",
              "                            \n",
              "var gd = document.getElementById('06c0dab2-5333-4da4-a02c-98d4b0101294');\n",
              "var x = new MutationObserver(function (mutations, observer) {{\n",
              "        var display = window.getComputedStyle(gd).display;\n",
              "        if (!display || display === 'none') {{\n",
              "            console.log([gd, 'removed!']);\n",
              "            Plotly.purge(gd);\n",
              "            observer.disconnect();\n",
              "        }}\n",
              "}});\n",
              "\n",
              "// Listen for the removal of the full notebook cells\n",
              "var notebookContainer = gd.closest('#notebook-container');\n",
              "if (notebookContainer) {{\n",
              "    x.observe(notebookContainer, {childList: true});\n",
              "}}\n",
              "\n",
              "// Listen for the clearing of the current output cell\n",
              "var outputEl = gd.closest('.output');\n",
              "if (outputEl) {{\n",
              "    x.observe(outputEl, {childList: true});\n",
              "}}\n",
              "\n",
              "                        })                };                            </script>        </div>\n",
              "</body>\n",
              "</html>"
            ]
          },
          "metadata": {}
        }
      ],
      "source": [
        "import plotly.graph_objects as go\n",
        "\n",
        "labels = ['Angkatan 2019', 'Angkatan 2020', 'Angkatan 2021', 'Angkatan 2022']\n",
        "values = [1, 5, 13, 13]\n",
        "\n",
        "fig = go.Figure(data=[go.Pie(labels=labels, values=values)])\n",
        "fig.show()"
      ]
    },
    {
      "cell_type": "markdown",
      "id": "7a898556-05d5-47bc-9d04-8875ff56e89d",
      "metadata": {
        "id": "7a898556-05d5-47bc-9d04-8875ff56e89d"
      },
      "source": [
        "# Soal 6"
      ]
    },
    {
      "cell_type": "markdown",
      "source": [
        "Lakukan penyimpanan data frame df ke dalam bentuk csv dengan nama data_pd4.csv"
      ],
      "metadata": {
        "id": "KIURy9_SKi6W"
      },
      "id": "KIURy9_SKi6W"
    },
    {
      "cell_type": "code",
      "execution_count": null,
      "id": "15b15db7-2ce6-4bad-9a67-ea169f75ea39",
      "metadata": {
        "id": "15b15db7-2ce6-4bad-9a67-ea169f75ea39"
      },
      "outputs": [],
      "source": [
        "df.to_csv('data_pd4.csv')\n"
      ]
    },
    {
      "cell_type": "markdown",
      "id": "77330f16-1927-45d1-a9c4-f86fd5b75db2",
      "metadata": {
        "id": "77330f16-1927-45d1-a9c4-f86fd5b75db2"
      },
      "source": [
        "# Soal 7"
      ]
    },
    {
      "cell_type": "markdown",
      "id": "1a2dd35f-0147-4dea-87a7-46f2787bc030",
      "metadata": {
        "id": "1a2dd35f-0147-4dea-87a7-46f2787bc030"
      },
      "source": [
        "Buatlah data frame dengan nama `df1` dari file csv `iris.csv`"
      ]
    },
    {
      "cell_type": "code",
      "execution_count": null,
      "id": "aebf1851-6bef-44ee-bbab-38fd746e13ac",
      "metadata": {
        "id": "aebf1851-6bef-44ee-bbab-38fd746e13ac",
        "colab": {
          "base_uri": "https://localhost:8080/"
        },
        "outputId": "343fcbab-268e-49a1-9138-d149e56a1291"
      },
      "outputs": [
        {
          "output_type": "stream",
          "name": "stdout",
          "text": [
            "    Unnamed: 0                              Nama         NIM\n",
            "0            0        Wisnu Catur Rachmad tulloh  2100015049\n",
            "1            1               Sindy Mey Marantika  2100015041\n",
            "2            2                Zakiah Intan Maula  2100015043\n",
            "3            3                 Januar Nur Rasyid  2100015006\n",
            "4            4                Lisa Nessa Safitri  2100015037\n",
            "5            5                    Hasan Darmawan  2215015035\n",
            "6            6                     SAIFUL ANDIKA  2100015051\n",
            "7            7            Maya Isafa Sam Saputri  2200015023\n",
            "8            8                      Didi Cahyadi  2200015012\n",
            "9            9             Izza Anggita Aryanawa  2200015033\n",
            "10          10                  Khusnul Khotimah  2100015009\n",
            "11          11            Badziliana Aqmar Suris  2100015016\n",
            "12          12                   Anggit Larasati  2100015036\n",
            "13          13             Sona Regina Salsabila  2100015053\n",
            "14          14               LELY AMALIA SAPUTRI  2100015050\n",
            "15          15                     Nastasya Dewi  2100015010\n",
            "16          16  Ragita Anillya Putri Prasetianto  2100015002\n",
            "17          17            Muhammad Fatah Hidayat  2200015002\n",
            "18          18                      Dwi Agustina  2000015016\n",
            "19          19                Nia Andriani Laila  2000015002\n",
            "20          20                   Winarsi J.Bidul  2000015011\n",
            "21          21                      Heru Pranoto  2211015008\n",
            "22          22      Reynaldi Ikbar Surya Andhika  2200015007\n",
            "23          23           Muhammad Rafiq Amrulloh  2200015028\n",
            "24          24         Muhammad Mujahid Al-makky  2200015006\n",
            "25          25                    Fauzi Ramadhan  2000015018\n",
            "26          26                   Vinna Rahmasari  2000015023\n",
            "27          27               Shintia Yulita Sari  1900015057\n",
            "28          28                Maretta Mia Audina  2200015010\n",
            "29          29                 Salma Aulia Imama  2200015009\n",
            "30          30               Dhe Emma Karniasari  2200015024\n",
            "31          31                     Khoirun Nisya  2200015033\n",
            "32          32                 PUSPITA AMBARWATI  2000015022\n"
          ]
        }
      ],
      "source": [
        "import pandas as pd\n",
        "df1 = pd.read_csv('/content/iris.csv')\n",
        "print(df1)\n"
      ]
    },
    {
      "cell_type": "markdown",
      "id": "477d27bf-6527-4700-b329-91fcc52a021b",
      "metadata": {
        "id": "477d27bf-6527-4700-b329-91fcc52a021b"
      },
      "source": [
        "# Soal 8"
      ]
    },
    {
      "cell_type": "markdown",
      "id": "8da6aefc-ed02-4e29-ae72-ecffeed28708",
      "metadata": {
        "id": "8da6aefc-ed02-4e29-ae72-ecffeed28708"
      },
      "source": [
        "Uplod `data_pd4.csv` kedalam github masing-masing lalu lakukan pembacaan data melalui raw.github dengan mencantumkan link data pada github. Lalu buatlah data frame dengan nama `df2`"
      ]
    },
    {
      "cell_type": "code",
      "source": [
        "import pandas as pd\n",
        "df2 = pd.read_csv('https://raw.githubusercontent.com/KhoirunNisya10/Khoirun-Nisya/main/data_pd4.csv')\n",
        "print(df2)"
      ],
      "metadata": {
        "colab": {
          "base_uri": "https://localhost:8080/"
        },
        "id": "7kjQY_JKsUkK",
        "outputId": "e73aa415-ec79-40a5-9c68-500b3f43fb9b"
      },
      "id": "7kjQY_JKsUkK",
      "execution_count": 5,
      "outputs": [
        {
          "output_type": "stream",
          "name": "stdout",
          "text": [
            "    Unnamed: 0                              Nama         NIM\n",
            "0            0        Wisnu Catur Rachmad tulloh  2100015049\n",
            "1            1               Sindy Mey Marantika  2100015041\n",
            "2            2                Zakiah Intan Maula  2100015043\n",
            "3            3                 Januar Nur Rasyid  2100015006\n",
            "4            4                Lisa Nessa Safitri  2100015037\n",
            "5            5                    Hasan Darmawan  2215015035\n",
            "6            6                     SAIFUL ANDIKA  2100015051\n",
            "7            7            Maya Isafa Sam Saputri  2200015023\n",
            "8            8                      Didi Cahyadi  2200015012\n",
            "9            9             Izza Anggita Aryanawa  2200015033\n",
            "10          10                  Khusnul Khotimah  2100015009\n",
            "11          11            Badziliana Aqmar Suris  2100015016\n",
            "12          12                   Anggit Larasati  2100015036\n",
            "13          13             Sona Regina Salsabila  2100015053\n",
            "14          14               LELY AMALIA SAPUTRI  2100015050\n",
            "15          15                     Nastasya Dewi  2100015010\n",
            "16          16  Ragita Anillya Putri Prasetianto  2100015002\n",
            "17          17            Muhammad Fatah Hidayat  2200015002\n",
            "18          18                      Dwi Agustina  2000015016\n",
            "19          19                Nia Andriani Laila  2000015002\n",
            "20          20                   Winarsi J.Bidul  2000015011\n",
            "21          21                      Heru Pranoto  2211015008\n",
            "22          22      Reynaldi Ikbar Surya Andhika  2200015007\n",
            "23          23           Muhammad Rafiq Amrulloh  2200015028\n",
            "24          24         Muhammad Mujahid Al-makky  2200015006\n",
            "25          25                    Fauzi Ramadhan  2000015018\n",
            "26          26                   Vinna Rahmasari  2000015023\n",
            "27          27               Shintia Yulita Sari  1900015057\n",
            "28          28                Maretta Mia Audina  2200015010\n",
            "29          29                 Salma Aulia Imama  2200015009\n",
            "30          30               Dhe Emma Karniasari  2200015024\n",
            "31          31                     Khoirun Nisya  2200015033\n",
            "32          32                 PUSPITA AMBARWATI  2000015022\n"
          ]
        }
      ]
    }
  ],
  "metadata": {
    "kernelspec": {
      "display_name": "Python 3",
      "language": "python",
      "name": "python3"
    },
    "language_info": {
      "codemirror_mode": {
        "name": "ipython",
        "version": 3
      },
      "file_extension": ".py",
      "mimetype": "text/x-python",
      "name": "python",
      "nbconvert_exporter": "python",
      "pygments_lexer": "ipython3",
      "version": "3.8.8"
    },
    "colab": {
      "provenance": [],
      "include_colab_link": true
    }
  },
  "nbformat": 4,
  "nbformat_minor": 5
}